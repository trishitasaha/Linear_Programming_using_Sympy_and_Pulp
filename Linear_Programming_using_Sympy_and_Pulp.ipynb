{
  "nbformat": 4,
  "nbformat_minor": 0,
  "metadata": {
    "colab": {
      "provenance": []
    },
    "kernelspec": {
      "name": "python3",
      "display_name": "Python 3"
    },
    "language_info": {
      "name": "python"
    }
  },
  "cells": [
    {
      "cell_type": "code",
      "execution_count": null,
      "metadata": {
        "colab": {
          "base_uri": "https://localhost:8080/"
        },
        "id": "LXE8RPqNhyMj",
        "outputId": "55029cce-e1d6-46f6-8602-79aa20237969"
      },
      "outputs": [
        {
          "output_type": "stream",
          "name": "stdout",
          "text": [
            "Looking in indexes: https://pypi.org/simple, https://us-python.pkg.dev/colab-wheels/public/simple/\n",
            "Requirement already satisfied: sympy in /usr/local/lib/python3.7/dist-packages (1.7.1)\n",
            "Requirement already satisfied: mpmath>=0.19 in /usr/local/lib/python3.7/dist-packages (from sympy) (1.2.1)\n"
          ]
        }
      ],
      "source": [
        "pip install sympy"
      ]
    },
    {
      "cell_type": "code",
      "source": [
        "from sympy import symbols, Eq, solve\n",
        "\n",
        "\n",
        "\n",
        "''' Input coefficients of objective funtion and constraints as matrix '''\n",
        "\n",
        "objective=[2,1] #[coeff of x, coeff of y]\n",
        "constraints=[[1,1,3,1],  #[coeff of x ,coeff of y ,constant, -1 for > inequality]     \n",
        "       [1,2,5,1],\n",
        "       [1,0,2,1],\n",
        "       [1,0,0,-1],\n",
        "       [0,1,0,-1]]\n",
        "\n",
        "print(\"Objective Function: \", objective[0],\"x +\",objective[1],\"y\")\n",
        "print(\"subject to:\")\n",
        "for i in constraints:\n",
        "    if i[3]==1:\n",
        "        sym='<='\n",
        "    else:\n",
        "        sym='>='\n",
        "    print(i[0],\"x +\",i[1],\"y\",sym, i[2])\n",
        "\n",
        "\n",
        "\n",
        "''' Convert constraints to equation format to solve using sympy library '''\n",
        "print()\n",
        "eq=[] #list to store eqn \n",
        "\n",
        "x, y = symbols('x,y') #declare variables for the equations\n",
        "for i in constraints:\n",
        "     eq.append(Eq((i[0]*x+i[1]*y),i[2])) #put equation format according to sympy library\n",
        "\n",
        "\n",
        "sols=[] #list to store the solutions\n",
        "\n",
        "\n",
        "#for loop to find intersection of all eqn in eq[]\n",
        "for i in range(len(constraints)):\n",
        "    for j in range(i,len(constraints)):\n",
        "        if i!=j:\n",
        "            ss=solve((eq[i],eq[j]),(x,y))     #solves linear eqn i and j and returns solution\n",
        "            print(\"solving\",i+1,\"and\",j+1,\"sol=\",ss)\n",
        "            if ss!=[]:  #ignore empty list(no solution)\n",
        "                s=list(ss.values()) #convert solution to list\n",
        "            s=[float(k) for k in s]\n",
        "            sols.append(s)\n",
        "print()\n",
        "\n",
        "\n",
        "''' From list of solutions filter out the feasible solutions'''\n",
        "\n",
        "feasibleSols=[] #list to store all feasible solution\n",
        "\n",
        "\n",
        "\n",
        "#for loop tp test each solution with each constraints \n",
        "for i in sols:\n",
        "    flag=1 #1 inicates feasible 0 indicate non-feasible\n",
        "    for j in constraints:\n",
        "        \n",
        "        if j[3]*(j[0]*i[0]+j[1]*i[1])<=j[3]*j[2]:\n",
        "            flag&=1\n",
        "        else:\n",
        "            flag&=0\n",
        "    if flag==1:\n",
        "        feasibleSols.append(i)\n",
        "     \n",
        "print()\n",
        "print(\"Feasible list:\")\n",
        "print(feasibleSols) \n",
        "print()\n",
        "\n",
        "''' calculate objective function for all feasible solutions'''\n",
        "\n",
        "for i in range(len(feasibleSols)):\n",
        "    z= objective[0] *feasibleSols[i][0]+ objective[1] *feasibleSols[i][1] #calculate z for i and add to list i\n",
        "    feasibleSols[i].append(z)\n",
        "\n",
        "feasibleSols.sort(key = lambda x: x[2])  #sort feasible solutions based on z value\n",
        "# print(\"Minimum point:\", feasibleSols[0][0:2])\n",
        "# print('Value:', feasibleSols[0][2])\n",
        "\n",
        "m=len(feasibleSols)-1\n",
        "print(\"Maximum point:\", feasibleSols[m][0:2])\n",
        "print('Value:', feasibleSols[m][2])"
      ],
      "metadata": {
        "colab": {
          "base_uri": "https://localhost:8080/"
        },
        "id": "5wjzgo7Mh6Bi",
        "outputId": "bcb47134-a0b5-4a96-ac1f-6c9a0acdc016"
      },
      "execution_count": null,
      "outputs": [
        {
          "output_type": "stream",
          "name": "stdout",
          "text": [
            "Objective Function:  2 x + 1 y\n",
            "subject to:\n",
            "1 x + 1 y <= 3\n",
            "1 x + 2 y <= 5\n",
            "1 x + 0 y <= 2\n",
            "1 x + 0 y >= 0\n",
            "0 x + 1 y >= 0\n",
            "\n",
            "solving 1 and 2 sol= {x: 1, y: 2}\n",
            "solving 1 and 3 sol= {x: 2, y: 1}\n",
            "solving 1 and 4 sol= {x: 0, y: 3}\n",
            "solving 1 and 5 sol= {x: 3, y: 0}\n",
            "solving 2 and 3 sol= {x: 2, y: 3/2}\n",
            "solving 2 and 4 sol= {x: 0, y: 5/2}\n",
            "solving 2 and 5 sol= {x: 5, y: 0}\n",
            "solving 3 and 4 sol= []\n",
            "solving 3 and 5 sol= {x: 2, y: 0}\n",
            "solving 4 and 5 sol= {x: 0, y: 0}\n",
            "\n",
            "\n",
            "Feasible list:\n",
            "[[1.0, 2.0], [2.0, 1.0], [0.0, 2.5], [2.0, 0.0], [0.0, 0.0]]\n",
            "\n",
            "Maximum point: [2.0, 1.0]\n",
            "Value: 5.0\n"
          ]
        }
      ]
    },
    {
      "cell_type": "code",
      "source": [
        "pip install pulp"
      ],
      "metadata": {
        "colab": {
          "base_uri": "https://localhost:8080/"
        },
        "id": "4o0y9MqAiFPB",
        "outputId": "8f84f411-19f1-4c11-e776-1e08b26b21a9"
      },
      "execution_count": null,
      "outputs": [
        {
          "output_type": "stream",
          "name": "stdout",
          "text": [
            "Looking in indexes: https://pypi.org/simple, https://us-python.pkg.dev/colab-wheels/public/simple/\n",
            "Collecting pulp\n",
            "  Downloading PuLP-2.6.0-py3-none-any.whl (14.2 MB)\n",
            "\u001b[K     |████████████████████████████████| 14.2 MB 3.9 MB/s \n",
            "\u001b[?25hInstalling collected packages: pulp\n",
            "Successfully installed pulp-2.6.0\n"
          ]
        }
      ]
    },
    {
      "cell_type": "code",
      "source": [
        "# import the library pulp as p\n",
        "import pulp as p\n",
        "  \n",
        "# Create a LP Minimization problem\n",
        "Lp_prob = p.LpProblem('Problem', p.LpMinimize) \n",
        "\n",
        "#for maximization,\n",
        "Lp_prob = p.LpProblem('Problem', p.LpMaximize) \n",
        "\n",
        "  \n",
        "# Create problem Variables \n",
        "x = p.LpVariable(\"x\", lowBound = 0)   # Create a variable x >= 0\n",
        "y = p.LpVariable(\"y\", lowBound = 0)   # Create a variable y >= 0\n",
        "  \n",
        "# Objective Function\n",
        "Lp_prob += 2 * x + 1 * y   \n",
        "  \n",
        "# Constraints:\n",
        "Lp_prob += 1 * x + 1 * y <= 3\n",
        "Lp_prob += 1 * x + 2 * y <= 5\n",
        "Lp_prob += x <= 2\n",
        "\n",
        "  \n",
        "# Display the problem\n",
        "print(Lp_prob)\n",
        "  \n",
        "status = Lp_prob.solve()   # Solver\n",
        "print(p.LpStatus[status])   # The solution status\n",
        "  \n",
        "# Printing the final solution\n",
        "print(p.value(x), p.value(y), p.value(Lp_prob.objective))"
      ],
      "metadata": {
        "colab": {
          "base_uri": "https://localhost:8080/"
        },
        "id": "GuSxERwriQKo",
        "outputId": "ea37780a-184f-44c7-d8db-e4771620d4e3"
      },
      "execution_count": null,
      "outputs": [
        {
          "output_type": "stream",
          "name": "stdout",
          "text": [
            "Problem:\n",
            "MAXIMIZE\n",
            "2*x + 1*y + 0\n",
            "SUBJECT TO\n",
            "_C1: x + y <= 3\n",
            "\n",
            "_C2: x + 2 y <= 5\n",
            "\n",
            "_C3: x <= 2\n",
            "\n",
            "VARIABLES\n",
            "x Continuous\n",
            "y Continuous\n",
            "\n",
            "Optimal\n",
            "2.0 1.0 5.0\n"
          ]
        }
      ]
    },
    {
      "cell_type": "code",
      "source": [],
      "metadata": {
        "id": "M4YMb4jlio2J"
      },
      "execution_count": null,
      "outputs": []
    }
  ]
}